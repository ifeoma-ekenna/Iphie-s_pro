{
 "cells": [
  {
   "cell_type": "markdown",
   "metadata": {},
   "source": [
    "**This notebook is an exercise in the [Data Visualization](https://www.kaggle.com/learn/data-visualization) course.  You can reference the tutorial at [this link](https://www.kaggle.com/alexisbcook/final-project).**\n",
    "\n",
    "---\n"
   ]
  },
  {
   "cell_type": "markdown",
   "metadata": {},
   "source": [
    "Now it's time for you to demonstrate your new skills with a project of your own!\n",
    "\n",
    "In this exercise, you will work with a dataset of your choosing.  Once you've selected a dataset, you'll design and create your own plot to tell interesting stories behind the data!\n",
    "\n",
    "## Setup\n",
    "\n",
    "Run the next cell to import and configure the Python libraries that you need to complete the exercise."
   ]
  },
  {
   "cell_type": "code",
   "execution_count": 3,
   "metadata": {
    "execution": {
     "iopub.execute_input": "2022-10-25T13:13:16.150443Z",
     "iopub.status.busy": "2022-10-25T13:13:16.149985Z",
     "iopub.status.idle": "2022-10-25T13:13:16.783594Z",
     "shell.execute_reply": "2022-10-25T13:13:16.782624Z",
     "shell.execute_reply.started": "2022-10-25T13:13:16.150408Z"
    }
   },
   "outputs": [
    {
     "name": "stdout",
     "output_type": "stream",
     "text": [
      "Setup Complete\n"
     ]
    }
   ],
   "source": [
    "import pandas as pd\n",
    "pd.plotting.register_matplotlib_converters()\n",
    "import matplotlib.pyplot as plt\n",
    "%matplotlib inline\n",
    "import seaborn as sns\n",
    "print(\"Setup Complete\")"
   ]
  },
  {
   "cell_type": "code",
   "execution_count": 4,
   "metadata": {
    "execution": {
     "iopub.execute_input": "2022-10-25T13:13:16.786767Z",
     "iopub.status.busy": "2022-10-25T13:13:16.785366Z",
     "iopub.status.idle": "2022-10-25T13:13:16.795486Z",
     "shell.execute_reply": "2022-10-25T13:13:16.793689Z",
     "shell.execute_reply.started": "2022-10-25T13:13:16.786728Z"
    }
   },
   "outputs": [
    {
     "name": "stdout",
     "output_type": "stream",
     "text": [
      "Setup Complete\n"
     ]
    }
   ],
   "source": [
    "import pandas as pd\n",
    "pd.plotting.register_matplotlib_converters()\n",
    "import matplotlib.pyplot as plt\n",
    "%matplotlib inline\n",
    "import seaborn as sns\n",
    "print(\"Setup Complete\")"
   ]
  },
  {
   "cell_type": "markdown",
   "metadata": {},
   "source": [
    "The questions below will give you feedback on your work. Run the following cell to set up the feedback system."
   ]
  },
  {
   "cell_type": "code",
   "execution_count": 5,
   "metadata": {
    "execution": {
     "iopub.execute_input": "2022-10-25T13:13:16.797654Z",
     "iopub.status.busy": "2022-10-25T13:13:16.797281Z",
     "iopub.status.idle": "2022-10-25T13:13:16.845748Z",
     "shell.execute_reply": "2022-10-25T13:13:16.844900Z",
     "shell.execute_reply.started": "2022-10-25T13:13:16.797621Z"
    }
   },
   "outputs": [
    {
     "name": "stdout",
     "output_type": "stream",
     "text": [
      "Setup Complete\n"
     ]
    }
   ],
   "source": [
    "# Set up code checking\n",
    "from learntools.core import binder\n",
    "binder.bind(globals())\n",
    "from learntools.data_viz_to_coder.ex7 import *\n",
    "print(\"Setup Complete\")"
   ]
  },
  {
   "cell_type": "markdown",
   "metadata": {},
   "source": [
    "## Step 1: Attach a dataset to the notebook\n",
    "\n",
    "Begin by selecting a CSV dataset from [Kaggle Datasets](https://www.kaggle.com/datasets).  If you're unsure how to do this, please revisit the instructions in the previous tutorial.\n",
    "\n",
    "Once you have selected a dataset, click on the **[+ Add data]** option in the top right corner.  This will generate a pop-up window that you can use to search for your chosen dataset.  \n",
    "\n",
    "![ex6_search_dataset](https://i.imgur.com/cIIWPUS.png)\n",
    "\n",
    "Once you have found the dataset, click on the **[Add]** button to attach it to the notebook.  You can check that it was successful by looking at the **Data** dropdown menu to the right of the notebook -- look for an **input** folder containing a subfolder that matches the name of the dataset.\n",
    "\n",
    "<center>\n",
    "<img src=\"https://i.imgur.com/nMYc1Nu.png\" width=30%><br/>\n",
    "</center>\n",
    "\n",
    "You can click on the carat to the left of the name of the dataset to double-check that it contains a CSV file.  For instance, the image below shows that the example dataset contains two CSV files: (1) **dc-wikia-data.csv**, and (2) **marvel-wikia-data.csv**.\n",
    "\n",
    "<center>\n",
    "<img src=\"https://i.imgur.com/B4sJkVA.png\" width=30%><br/>\n",
    "</center>\n",
    "\n",
    "Once you've uploaded a dataset with a CSV file, run the code cell below **without changes** to receive credit for your work!"
   ]
  },
  {
   "cell_type": "code",
   "execution_count": 6,
   "metadata": {
    "execution": {
     "iopub.execute_input": "2022-10-25T13:13:16.849242Z",
     "iopub.status.busy": "2022-10-25T13:13:16.847768Z",
     "iopub.status.idle": "2022-10-25T13:13:16.872405Z",
     "shell.execute_reply": "2022-10-25T13:13:16.871185Z",
     "shell.execute_reply.started": "2022-10-25T13:13:16.849182Z"
    }
   },
   "outputs": [
    {
     "data": {
      "application/javascript": [
       "parent.postMessage({\"jupyterEvent\": \"custom.exercise_interaction\", \"data\": {\"outcomeType\": 1, \"valueTowardsCompletion\": 0.25, \"interactionType\": 1, \"questionType\": 2, \"questionId\": \"1_AttachData\", \"learnToolsVersion\": \"0.3.4\", \"failureMessage\": \"\", \"exceptionClass\": \"\", \"trace\": \"\"}}, \"*\")"
      ],
      "text/plain": [
       "<IPython.core.display.Javascript object>"
      ]
     },
     "metadata": {},
     "output_type": "display_data"
    },
    {
     "data": {
      "text/markdown": [
       "<span style=\"color:#33cc33\">Correct:</span> \n",
       "\n"
      ],
      "text/plain": [
       "Correct: \n"
      ]
     },
     "metadata": {},
     "output_type": "display_data"
    }
   ],
   "source": [
    "# Check for a dataset with a CSV file\n",
    "step_1.check()"
   ]
  },
  {
   "cell_type": "markdown",
   "metadata": {},
   "source": [
    "## Step 2: Specify the filepath\n",
    "\n",
    "Now that the dataset is attached to the notebook, you can find its filepath.  To do this, begin by clicking on the CSV file you'd like to use.  This will open the CSV file in a tab below the notebook.  You can find the filepath towards the top of this new tab.  \n",
    "\n",
    "![ex6_filepath](https://i.imgur.com/fgXQV47.png)\n",
    "\n",
    "After you find the filepath corresponding to your dataset, fill it in as the value for `my_filepath` in the code cell below, and run the code cell to check that you've provided a valid filepath.  For instance, in the case of this example dataset, we would set\n",
    "```\n",
    "my_filepath = \"../input/fivethirtyeight-comic-characters-dataset/dc-wikia-data.csv\"\n",
    "```  \n",
    "Note that **you must enclose the filepath in quotation marks**; otherwise, the code will return an error.\n",
    "\n",
    "Once you've entered the filepath, you can close the tab below the notebook by clicking on the **[X]** at the top of the tab."
   ]
  },
  {
   "cell_type": "code",
   "execution_count": 7,
   "metadata": {
    "execution": {
     "iopub.execute_input": "2022-10-25T13:13:16.874947Z",
     "iopub.status.busy": "2022-10-25T13:13:16.873719Z",
     "iopub.status.idle": "2022-10-25T13:13:16.882510Z",
     "shell.execute_reply": "2022-10-25T13:13:16.881729Z",
     "shell.execute_reply.started": "2022-10-25T13:13:16.874898Z"
    }
   },
   "outputs": [
    {
     "data": {
      "application/javascript": [
       "parent.postMessage({\"jupyterEvent\": \"custom.exercise_interaction\", \"data\": {\"outcomeType\": 1, \"valueTowardsCompletion\": 0.25, \"interactionType\": 1, \"questionType\": 2, \"questionId\": \"2_Filepath\", \"learnToolsVersion\": \"0.3.4\", \"failureMessage\": \"\", \"exceptionClass\": \"\", \"trace\": \"\"}}, \"*\")"
      ],
      "text/plain": [
       "<IPython.core.display.Javascript object>"
      ]
     },
     "metadata": {},
     "output_type": "display_data"
    },
    {
     "data": {
      "text/markdown": [
       "<span style=\"color:#33cc33\">Correct:</span> \n",
       "\n"
      ],
      "text/plain": [
       "Correct: \n"
      ]
     },
     "metadata": {},
     "output_type": "display_data"
    }
   ],
   "source": [
    "# Fill in the line below: Specify the path of the CSV file to read\n",
    "my_filepath = \"../input/nflstatistics/Basic_Stats.csv\"\n",
    "\n",
    "# Check for a valid filepath to a CSV file in a dataset\n",
    "step_2.check()"
   ]
  },
  {
   "cell_type": "markdown",
   "metadata": {},
   "source": [
    "## Step 3: Load the data\n",
    "\n",
    "Use the next code cell to load your data file into `my_data`.  Use the filepath that you specified in the previous step."
   ]
  },
  {
   "cell_type": "code",
   "execution_count": 8,
   "metadata": {
    "execution": {
     "iopub.execute_input": "2022-10-25T13:13:16.884133Z",
     "iopub.status.busy": "2022-10-25T13:13:16.883764Z",
     "iopub.status.idle": "2022-10-25T13:13:16.978886Z",
     "shell.execute_reply": "2022-10-25T13:13:16.978135Z",
     "shell.execute_reply.started": "2022-10-25T13:13:16.884102Z"
    }
   },
   "outputs": [
    {
     "data": {
      "application/javascript": [
       "parent.postMessage({\"jupyterEvent\": \"custom.exercise_interaction\", \"data\": {\"outcomeType\": 1, \"valueTowardsCompletion\": 0.25, \"interactionType\": 1, \"questionType\": 2, \"questionId\": \"3_LoadData\", \"learnToolsVersion\": \"0.3.4\", \"failureMessage\": \"\", \"exceptionClass\": \"\", \"trace\": \"\"}}, \"*\")"
      ],
      "text/plain": [
       "<IPython.core.display.Javascript object>"
      ]
     },
     "metadata": {},
     "output_type": "display_data"
    },
    {
     "data": {
      "text/markdown": [
       "<span style=\"color:#33cc33\">Correct:</span> \n",
       "\n"
      ],
      "text/plain": [
       "Correct: \n"
      ]
     },
     "metadata": {},
     "output_type": "display_data"
    }
   ],
   "source": [
    "# Fill in the line below: Read the file into a variable my_data\n",
    "my_data = pd.read_csv(\"../input/nflstatistics/Basic_Stats.csv\")\n",
    "\n",
    "# Check that a dataset has been uploaded into my_data\n",
    "step_3.check()"
   ]
  },
  {
   "cell_type": "markdown",
   "metadata": {},
   "source": [
    "**_After the code cell above is marked correct_**, run the code cell below without changes to view the first five rows of the data."
   ]
  },
  {
   "cell_type": "code",
   "execution_count": 9,
   "metadata": {
    "execution": {
     "iopub.execute_input": "2022-10-25T13:13:16.980951Z",
     "iopub.status.busy": "2022-10-25T13:13:16.979903Z",
     "iopub.status.idle": "2022-10-25T13:13:17.012207Z",
     "shell.execute_reply": "2022-10-25T13:13:17.010763Z",
     "shell.execute_reply.started": "2022-10-25T13:13:16.980896Z"
    }
   },
   "outputs": [
    {
     "data": {
      "text/html": [
       "<div>\n",
       "<style scoped>\n",
       "    .dataframe tbody tr th:only-of-type {\n",
       "        vertical-align: middle;\n",
       "    }\n",
       "\n",
       "    .dataframe tbody tr th {\n",
       "        vertical-align: top;\n",
       "    }\n",
       "\n",
       "    .dataframe thead th {\n",
       "        text-align: right;\n",
       "    }\n",
       "</style>\n",
       "<table border=\"1\" class=\"dataframe\">\n",
       "  <thead>\n",
       "    <tr style=\"text-align: right;\">\n",
       "      <th></th>\n",
       "      <th>Age</th>\n",
       "      <th>Birth Place</th>\n",
       "      <th>Birthday</th>\n",
       "      <th>College</th>\n",
       "      <th>Current Status</th>\n",
       "      <th>Current Team</th>\n",
       "      <th>Experience</th>\n",
       "      <th>Height (inches)</th>\n",
       "      <th>High School</th>\n",
       "      <th>High School Location</th>\n",
       "      <th>Name</th>\n",
       "      <th>Number</th>\n",
       "      <th>Player Id</th>\n",
       "      <th>Position</th>\n",
       "      <th>Weight (lbs)</th>\n",
       "      <th>Years Played</th>\n",
       "    </tr>\n",
       "  </thead>\n",
       "  <tbody>\n",
       "    <tr>\n",
       "      <th>0</th>\n",
       "      <td>NaN</td>\n",
       "      <td>Grand Rapids , MI</td>\n",
       "      <td>5/23/1921</td>\n",
       "      <td>Notre Dame</td>\n",
       "      <td>Retired</td>\n",
       "      <td>NaN</td>\n",
       "      <td>3 Seasons</td>\n",
       "      <td>71.0</td>\n",
       "      <td>NaN</td>\n",
       "      <td>NaN</td>\n",
       "      <td>Evans, Fred</td>\n",
       "      <td>NaN</td>\n",
       "      <td>fredevans/2513736</td>\n",
       "      <td>NaN</td>\n",
       "      <td>185.0</td>\n",
       "      <td>1946 - 1948</td>\n",
       "    </tr>\n",
       "    <tr>\n",
       "      <th>1</th>\n",
       "      <td>NaN</td>\n",
       "      <td>Dayton , OH</td>\n",
       "      <td>12/21/1930</td>\n",
       "      <td>Dayton</td>\n",
       "      <td>Retired</td>\n",
       "      <td>NaN</td>\n",
       "      <td>1 Season</td>\n",
       "      <td>70.0</td>\n",
       "      <td>NaN</td>\n",
       "      <td>NaN</td>\n",
       "      <td>Raiff, Jim</td>\n",
       "      <td>NaN</td>\n",
       "      <td>jimraiff/2523700</td>\n",
       "      <td>NaN</td>\n",
       "      <td>235.0</td>\n",
       "      <td>1954 - 1954</td>\n",
       "    </tr>\n",
       "    <tr>\n",
       "      <th>2</th>\n",
       "      <td>56.0</td>\n",
       "      <td>Temple , TX</td>\n",
       "      <td>9/11/1960</td>\n",
       "      <td>Louisiana Tech</td>\n",
       "      <td>Retired</td>\n",
       "      <td>NaN</td>\n",
       "      <td>1 Season</td>\n",
       "      <td>74.0</td>\n",
       "      <td>NaN</td>\n",
       "      <td>NaN</td>\n",
       "      <td>Fowler, Bobby</td>\n",
       "      <td>NaN</td>\n",
       "      <td>bobbyfowler/2514295</td>\n",
       "      <td>NaN</td>\n",
       "      <td>230.0</td>\n",
       "      <td>1985 - 1985</td>\n",
       "    </tr>\n",
       "    <tr>\n",
       "      <th>3</th>\n",
       "      <td>30.0</td>\n",
       "      <td>New Orleans , LA</td>\n",
       "      <td>9/30/1986</td>\n",
       "      <td>LSU</td>\n",
       "      <td>Retired</td>\n",
       "      <td>NaN</td>\n",
       "      <td>5 Seasons</td>\n",
       "      <td>73.0</td>\n",
       "      <td>NaN</td>\n",
       "      <td>NaN</td>\n",
       "      <td>Johnson, Quinn</td>\n",
       "      <td>NaN</td>\n",
       "      <td>quinnjohnson/79593</td>\n",
       "      <td>NaN</td>\n",
       "      <td>255.0</td>\n",
       "      <td>2009 - 2013</td>\n",
       "    </tr>\n",
       "    <tr>\n",
       "      <th>4</th>\n",
       "      <td>25.0</td>\n",
       "      <td>Detroit , MI</td>\n",
       "      <td>3/31/1992</td>\n",
       "      <td>Central Michigan</td>\n",
       "      <td>Active</td>\n",
       "      <td>Pittsburgh Steelers</td>\n",
       "      <td>3rd season</td>\n",
       "      <td>77.0</td>\n",
       "      <td>Clintondale HS</td>\n",
       "      <td>Clinton Twp.,Macomb Co., MI</td>\n",
       "      <td>Walton, L.T.</td>\n",
       "      <td>96.0</td>\n",
       "      <td>l.t.walton/2552444</td>\n",
       "      <td>DE</td>\n",
       "      <td>305.0</td>\n",
       "      <td>NaN</td>\n",
       "    </tr>\n",
       "  </tbody>\n",
       "</table>\n",
       "</div>"
      ],
      "text/plain": [
       "    Age        Birth Place    Birthday           College Current Status  \\\n",
       "0   NaN  Grand Rapids , MI   5/23/1921        Notre Dame        Retired   \n",
       "1   NaN        Dayton , OH  12/21/1930            Dayton        Retired   \n",
       "2  56.0        Temple , TX   9/11/1960    Louisiana Tech        Retired   \n",
       "3  30.0   New Orleans , LA   9/30/1986               LSU        Retired   \n",
       "4  25.0       Detroit , MI   3/31/1992  Central Michigan         Active   \n",
       "\n",
       "          Current Team  Experience  Height (inches)     High School  \\\n",
       "0                  NaN   3 Seasons             71.0             NaN   \n",
       "1                  NaN    1 Season             70.0             NaN   \n",
       "2                  NaN    1 Season             74.0             NaN   \n",
       "3                  NaN   5 Seasons             73.0             NaN   \n",
       "4  Pittsburgh Steelers  3rd season             77.0  Clintondale HS   \n",
       "\n",
       "          High School Location            Name  Number            Player Id  \\\n",
       "0                          NaN     Evans, Fred     NaN    fredevans/2513736   \n",
       "1                          NaN      Raiff, Jim     NaN     jimraiff/2523700   \n",
       "2                          NaN   Fowler, Bobby     NaN  bobbyfowler/2514295   \n",
       "3                          NaN  Johnson, Quinn     NaN   quinnjohnson/79593   \n",
       "4  Clinton Twp.,Macomb Co., MI    Walton, L.T.    96.0   l.t.walton/2552444   \n",
       "\n",
       "  Position  Weight (lbs) Years Played  \n",
       "0      NaN         185.0  1946 - 1948  \n",
       "1      NaN         235.0  1954 - 1954  \n",
       "2      NaN         230.0  1985 - 1985  \n",
       "3      NaN         255.0  2009 - 2013  \n",
       "4       DE         305.0          NaN  "
      ]
     },
     "execution_count": 9,
     "metadata": {},
     "output_type": "execute_result"
    }
   ],
   "source": [
    "# Print the first five rows of the data\n",
    "my_data.head(5)"
   ]
  },
  {
   "cell_type": "markdown",
   "metadata": {},
   "source": [
    "## Step 4: Visualize the data\n",
    "\n",
    "Use the next code cell to create a figure that tells a story behind your dataset.  You can use any chart type (_line chart, bar chart, heatmap, etc_) of your choosing!"
   ]
  },
  {
   "cell_type": "code",
   "execution_count": 10,
   "metadata": {
    "execution": {
     "iopub.execute_input": "2022-10-25T13:13:17.014593Z",
     "iopub.status.busy": "2022-10-25T13:13:17.013428Z",
     "iopub.status.idle": "2022-10-25T13:13:17.052779Z",
     "shell.execute_reply": "2022-10-25T13:13:17.052012Z",
     "shell.execute_reply.started": "2022-10-25T13:13:17.014527Z"
    }
   },
   "outputs": [
    {
     "name": "stdout",
     "output_type": "stream",
     "text": [
      "<class 'pandas.core.frame.DataFrame'>\n",
      "RangeIndex: 17172 entries, 0 to 17171\n",
      "Data columns (total 16 columns):\n",
      " #   Column                Non-Null Count  Dtype  \n",
      "---  ------                --------------  -----  \n",
      " 0   Age                   13504 non-null  float64\n",
      " 1   Birth Place           14794 non-null  object \n",
      " 2   Birthday              16835 non-null  object \n",
      " 3   College               17133 non-null  object \n",
      " 4   Current Status        17172 non-null  object \n",
      " 5   Current Team          3096 non-null   object \n",
      " 6   Experience            17133 non-null  object \n",
      " 7   Height (inches)       17026 non-null  float64\n",
      " 8   High School           2514 non-null   object \n",
      " 9   High School Location  2510 non-null   object \n",
      " 10  Name                  17172 non-null  object \n",
      " 11  Number                1708 non-null   float64\n",
      " 12  Player Id             17172 non-null  object \n",
      " 13  Position              3096 non-null   object \n",
      " 14  Weight (lbs)          17121 non-null  float64\n",
      " 15  Years Played          14076 non-null  object \n",
      "dtypes: float64(4), object(12)\n",
      "memory usage: 2.1+ MB\n"
     ]
    }
   ],
   "source": [
    "my_data.info()"
   ]
  },
  {
   "cell_type": "code",
   "execution_count": 11,
   "metadata": {
    "execution": {
     "iopub.execute_input": "2022-10-25T13:13:17.054593Z",
     "iopub.status.busy": "2022-10-25T13:13:17.054157Z",
     "iopub.status.idle": "2022-10-25T13:13:17.086004Z",
     "shell.execute_reply": "2022-10-25T13:13:17.084316Z",
     "shell.execute_reply.started": "2022-10-25T13:13:17.054566Z"
    }
   },
   "outputs": [
    {
     "data": {
      "text/html": [
       "<div>\n",
       "<style scoped>\n",
       "    .dataframe tbody tr th:only-of-type {\n",
       "        vertical-align: middle;\n",
       "    }\n",
       "\n",
       "    .dataframe tbody tr th {\n",
       "        vertical-align: top;\n",
       "    }\n",
       "\n",
       "    .dataframe thead th {\n",
       "        text-align: right;\n",
       "    }\n",
       "</style>\n",
       "<table border=\"1\" class=\"dataframe\">\n",
       "  <thead>\n",
       "    <tr style=\"text-align: right;\">\n",
       "      <th></th>\n",
       "      <th>Birth Place</th>\n",
       "      <th>Birthday</th>\n",
       "      <th>College</th>\n",
       "      <th>Current Status</th>\n",
       "      <th>Current Team</th>\n",
       "      <th>Experience</th>\n",
       "      <th>Height (inches)</th>\n",
       "      <th>High School</th>\n",
       "      <th>High School Location</th>\n",
       "      <th>Name</th>\n",
       "      <th>Number</th>\n",
       "      <th>Player Id</th>\n",
       "      <th>Position</th>\n",
       "      <th>Weight (lbs)</th>\n",
       "      <th>Years Played</th>\n",
       "    </tr>\n",
       "    <tr>\n",
       "      <th>Age</th>\n",
       "      <th></th>\n",
       "      <th></th>\n",
       "      <th></th>\n",
       "      <th></th>\n",
       "      <th></th>\n",
       "      <th></th>\n",
       "      <th></th>\n",
       "      <th></th>\n",
       "      <th></th>\n",
       "      <th></th>\n",
       "      <th></th>\n",
       "      <th></th>\n",
       "      <th></th>\n",
       "      <th></th>\n",
       "      <th></th>\n",
       "    </tr>\n",
       "  </thead>\n",
       "  <tbody>\n",
       "    <tr>\n",
       "      <th>NaN</th>\n",
       "      <td>Grand Rapids , MI</td>\n",
       "      <td>5/23/1921</td>\n",
       "      <td>Notre Dame</td>\n",
       "      <td>Retired</td>\n",
       "      <td>NaN</td>\n",
       "      <td>3 Seasons</td>\n",
       "      <td>71.0</td>\n",
       "      <td>NaN</td>\n",
       "      <td>NaN</td>\n",
       "      <td>Evans, Fred</td>\n",
       "      <td>NaN</td>\n",
       "      <td>fredevans/2513736</td>\n",
       "      <td>NaN</td>\n",
       "      <td>185.0</td>\n",
       "      <td>1946 - 1948</td>\n",
       "    </tr>\n",
       "    <tr>\n",
       "      <th>NaN</th>\n",
       "      <td>Dayton , OH</td>\n",
       "      <td>12/21/1930</td>\n",
       "      <td>Dayton</td>\n",
       "      <td>Retired</td>\n",
       "      <td>NaN</td>\n",
       "      <td>1 Season</td>\n",
       "      <td>70.0</td>\n",
       "      <td>NaN</td>\n",
       "      <td>NaN</td>\n",
       "      <td>Raiff, Jim</td>\n",
       "      <td>NaN</td>\n",
       "      <td>jimraiff/2523700</td>\n",
       "      <td>NaN</td>\n",
       "      <td>235.0</td>\n",
       "      <td>1954 - 1954</td>\n",
       "    </tr>\n",
       "    <tr>\n",
       "      <th>56.0</th>\n",
       "      <td>Temple , TX</td>\n",
       "      <td>9/11/1960</td>\n",
       "      <td>Louisiana Tech</td>\n",
       "      <td>Retired</td>\n",
       "      <td>NaN</td>\n",
       "      <td>1 Season</td>\n",
       "      <td>74.0</td>\n",
       "      <td>NaN</td>\n",
       "      <td>NaN</td>\n",
       "      <td>Fowler, Bobby</td>\n",
       "      <td>NaN</td>\n",
       "      <td>bobbyfowler/2514295</td>\n",
       "      <td>NaN</td>\n",
       "      <td>230.0</td>\n",
       "      <td>1985 - 1985</td>\n",
       "    </tr>\n",
       "    <tr>\n",
       "      <th>30.0</th>\n",
       "      <td>New Orleans , LA</td>\n",
       "      <td>9/30/1986</td>\n",
       "      <td>LSU</td>\n",
       "      <td>Retired</td>\n",
       "      <td>NaN</td>\n",
       "      <td>5 Seasons</td>\n",
       "      <td>73.0</td>\n",
       "      <td>NaN</td>\n",
       "      <td>NaN</td>\n",
       "      <td>Johnson, Quinn</td>\n",
       "      <td>NaN</td>\n",
       "      <td>quinnjohnson/79593</td>\n",
       "      <td>NaN</td>\n",
       "      <td>255.0</td>\n",
       "      <td>2009 - 2013</td>\n",
       "    </tr>\n",
       "    <tr>\n",
       "      <th>25.0</th>\n",
       "      <td>Detroit , MI</td>\n",
       "      <td>3/31/1992</td>\n",
       "      <td>Central Michigan</td>\n",
       "      <td>Active</td>\n",
       "      <td>Pittsburgh Steelers</td>\n",
       "      <td>3rd season</td>\n",
       "      <td>77.0</td>\n",
       "      <td>Clintondale HS</td>\n",
       "      <td>Clinton Twp.,Macomb Co., MI</td>\n",
       "      <td>Walton, L.T.</td>\n",
       "      <td>96.0</td>\n",
       "      <td>l.t.walton/2552444</td>\n",
       "      <td>DE</td>\n",
       "      <td>305.0</td>\n",
       "      <td>NaN</td>\n",
       "    </tr>\n",
       "    <tr>\n",
       "      <th>...</th>\n",
       "      <td>...</td>\n",
       "      <td>...</td>\n",
       "      <td>...</td>\n",
       "      <td>...</td>\n",
       "      <td>...</td>\n",
       "      <td>...</td>\n",
       "      <td>...</td>\n",
       "      <td>...</td>\n",
       "      <td>...</td>\n",
       "      <td>...</td>\n",
       "      <td>...</td>\n",
       "      <td>...</td>\n",
       "      <td>...</td>\n",
       "      <td>...</td>\n",
       "      <td>...</td>\n",
       "    </tr>\n",
       "    <tr>\n",
       "      <th>73.0</th>\n",
       "      <td>Detroit , MI</td>\n",
       "      <td>2/15/1944</td>\n",
       "      <td>Michigan State</td>\n",
       "      <td>Retired</td>\n",
       "      <td>NaN</td>\n",
       "      <td>1 Season</td>\n",
       "      <td>71.0</td>\n",
       "      <td>NaN</td>\n",
       "      <td>NaN</td>\n",
       "      <td>Goovert, Ron</td>\n",
       "      <td>NaN</td>\n",
       "      <td>rongoovert/2515082</td>\n",
       "      <td>NaN</td>\n",
       "      <td>225.0</td>\n",
       "      <td>1967 - 1967</td>\n",
       "    </tr>\n",
       "    <tr>\n",
       "      <th>32.0</th>\n",
       "      <td>Worland , WY</td>\n",
       "      <td>8/19/1984</td>\n",
       "      <td>Weber State</td>\n",
       "      <td>Retired</td>\n",
       "      <td>NaN</td>\n",
       "      <td>1 Season</td>\n",
       "      <td>75.0</td>\n",
       "      <td>NaN</td>\n",
       "      <td>NaN</td>\n",
       "      <td>Folsom, J.D.</td>\n",
       "      <td>NaN</td>\n",
       "      <td>j.d.folsom/238485</td>\n",
       "      <td>NaN</td>\n",
       "      <td>230.0</td>\n",
       "      <td>2009 - 2010</td>\n",
       "    </tr>\n",
       "    <tr>\n",
       "      <th>43.0</th>\n",
       "      <td>Washington , DC</td>\n",
       "      <td>5/4/1974</td>\n",
       "      <td>Akron</td>\n",
       "      <td>Retired</td>\n",
       "      <td>NaN</td>\n",
       "      <td>1 Season</td>\n",
       "      <td>72.0</td>\n",
       "      <td>NaN</td>\n",
       "      <td>NaN</td>\n",
       "      <td>Reader, Jamie</td>\n",
       "      <td>NaN</td>\n",
       "      <td>jamiereader/2502599</td>\n",
       "      <td>NaN</td>\n",
       "      <td>238.0</td>\n",
       "      <td>2001 - 2001</td>\n",
       "    </tr>\n",
       "    <tr>\n",
       "      <th>NaN</th>\n",
       "      <td>New Willard , TX</td>\n",
       "      <td>3/30/1921</td>\n",
       "      <td>Baylor</td>\n",
       "      <td>Retired</td>\n",
       "      <td>NaN</td>\n",
       "      <td>2 Seasons</td>\n",
       "      <td>73.0</td>\n",
       "      <td>NaN</td>\n",
       "      <td>NaN</td>\n",
       "      <td>Barnett, Solon</td>\n",
       "      <td>NaN</td>\n",
       "      <td>solonbarnett/2509044</td>\n",
       "      <td>NaN</td>\n",
       "      <td>235.0</td>\n",
       "      <td>1945 - 1946</td>\n",
       "    </tr>\n",
       "    <tr>\n",
       "      <th>54.0</th>\n",
       "      <td>Bryan , TX</td>\n",
       "      <td>10/21/1962</td>\n",
       "      <td>Baylor</td>\n",
       "      <td>Retired</td>\n",
       "      <td>NaN</td>\n",
       "      <td>1 Season</td>\n",
       "      <td>73.0</td>\n",
       "      <td>NaN</td>\n",
       "      <td>NaN</td>\n",
       "      <td>Johnson, Byron</td>\n",
       "      <td>NaN</td>\n",
       "      <td>byronjohnson/2517578</td>\n",
       "      <td>NaN</td>\n",
       "      <td>220.0</td>\n",
       "      <td>1987 - 1987</td>\n",
       "    </tr>\n",
       "  </tbody>\n",
       "</table>\n",
       "<p>17172 rows × 15 columns</p>\n",
       "</div>"
      ],
      "text/plain": [
       "            Birth Place    Birthday           College Current Status  \\\n",
       "Age                                                                    \n",
       "NaN   Grand Rapids , MI   5/23/1921        Notre Dame        Retired   \n",
       "NaN         Dayton , OH  12/21/1930            Dayton        Retired   \n",
       "56.0        Temple , TX   9/11/1960    Louisiana Tech        Retired   \n",
       "30.0   New Orleans , LA   9/30/1986               LSU        Retired   \n",
       "25.0       Detroit , MI   3/31/1992  Central Michigan         Active   \n",
       "...                 ...         ...               ...            ...   \n",
       "73.0       Detroit , MI   2/15/1944    Michigan State        Retired   \n",
       "32.0       Worland , WY   8/19/1984       Weber State        Retired   \n",
       "43.0    Washington , DC    5/4/1974             Akron        Retired   \n",
       "NaN    New Willard , TX   3/30/1921            Baylor        Retired   \n",
       "54.0         Bryan , TX  10/21/1962            Baylor        Retired   \n",
       "\n",
       "             Current Team  Experience  Height (inches)     High School  \\\n",
       "Age                                                                      \n",
       "NaN                   NaN   3 Seasons             71.0             NaN   \n",
       "NaN                   NaN    1 Season             70.0             NaN   \n",
       "56.0                  NaN    1 Season             74.0             NaN   \n",
       "30.0                  NaN   5 Seasons             73.0             NaN   \n",
       "25.0  Pittsburgh Steelers  3rd season             77.0  Clintondale HS   \n",
       "...                   ...         ...              ...             ...   \n",
       "73.0                  NaN    1 Season             71.0             NaN   \n",
       "32.0                  NaN    1 Season             75.0             NaN   \n",
       "43.0                  NaN    1 Season             72.0             NaN   \n",
       "NaN                   NaN   2 Seasons             73.0             NaN   \n",
       "54.0                  NaN    1 Season             73.0             NaN   \n",
       "\n",
       "             High School Location            Name  Number  \\\n",
       "Age                                                         \n",
       "NaN                           NaN     Evans, Fred     NaN   \n",
       "NaN                           NaN      Raiff, Jim     NaN   \n",
       "56.0                          NaN   Fowler, Bobby     NaN   \n",
       "30.0                          NaN  Johnson, Quinn     NaN   \n",
       "25.0  Clinton Twp.,Macomb Co., MI    Walton, L.T.    96.0   \n",
       "...                           ...             ...     ...   \n",
       "73.0                          NaN    Goovert, Ron     NaN   \n",
       "32.0                          NaN    Folsom, J.D.     NaN   \n",
       "43.0                          NaN   Reader, Jamie     NaN   \n",
       "NaN                           NaN  Barnett, Solon     NaN   \n",
       "54.0                          NaN  Johnson, Byron     NaN   \n",
       "\n",
       "                 Player Id Position  Weight (lbs) Years Played  \n",
       "Age                                                             \n",
       "NaN      fredevans/2513736      NaN         185.0  1946 - 1948  \n",
       "NaN       jimraiff/2523700      NaN         235.0  1954 - 1954  \n",
       "56.0   bobbyfowler/2514295      NaN         230.0  1985 - 1985  \n",
       "30.0    quinnjohnson/79593      NaN         255.0  2009 - 2013  \n",
       "25.0    l.t.walton/2552444       DE         305.0          NaN  \n",
       "...                    ...      ...           ...          ...  \n",
       "73.0    rongoovert/2515082      NaN         225.0  1967 - 1967  \n",
       "32.0     j.d.folsom/238485      NaN         230.0  2009 - 2010  \n",
       "43.0   jamiereader/2502599      NaN         238.0  2001 - 2001  \n",
       "NaN   solonbarnett/2509044      NaN         235.0  1945 - 1946  \n",
       "54.0  byronjohnson/2517578      NaN         220.0  1987 - 1987  \n",
       "\n",
       "[17172 rows x 15 columns]"
      ]
     },
     "execution_count": 11,
     "metadata": {},
     "output_type": "execute_result"
    }
   ],
   "source": [
    "my_data_age = my_data.set_index('Age')\n",
    "my_data_age"
   ]
  },
  {
   "cell_type": "code",
   "execution_count": 12,
   "metadata": {
    "execution": {
     "iopub.execute_input": "2022-10-25T13:13:17.089469Z",
     "iopub.status.busy": "2022-10-25T13:13:17.089082Z",
     "iopub.status.idle": "2022-10-25T13:13:17.100519Z",
     "shell.execute_reply": "2022-10-25T13:13:17.099278Z",
     "shell.execute_reply.started": "2022-10-25T13:13:17.089437Z"
    }
   },
   "outputs": [
    {
     "data": {
      "text/plain": [
       "Float64Index([   nan,   56.0,   30.0,   25.0,   22.0,   98.0,   33.0,   27.0,\n",
       "                73.0,   74.0,   66.0,   53.0,   50.0,   55.0,   39.0,   57.0,\n",
       "                38.0,   28.0,   34.0,   62.0,   60.0,   78.0,   29.0,   63.0,\n",
       "                26.0,   43.0,   41.0,   24.0,   69.0,   59.0,   81.0,   51.0,\n",
       "                23.0,   68.0,   31.0,   86.0,   58.0,   64.0,   32.0,   45.0,\n",
       "                37.0,   35.0,   52.0,   47.0,   36.0,   40.0,   77.0,   72.0,\n",
       "                42.0,   83.0,   49.0,   48.0,   97.0,   20.0,   61.0,   79.0,\n",
       "                71.0,   76.0,   54.0,   75.0,   21.0,   44.0,   65.0,   67.0,\n",
       "                84.0,   82.0,   46.0,   88.0,   91.0,   70.0,   87.0,   92.0,\n",
       "                85.0,   94.0,   93.0,   95.0,   96.0,   80.0,  104.0,   90.0,\n",
       "                89.0,  101.0,  111.0,  102.0, 2017.0,   99.0, 2016.0,  105.0,\n",
       "               108.0,  103.0,  100.0,  109.0,  107.0,   19.0,  114.0,  113.0],\n",
       "             dtype='float64', name='Age')"
      ]
     },
     "execution_count": 12,
     "metadata": {},
     "output_type": "execute_result"
    }
   ],
   "source": [
    "my_data_age.index.unique()"
   ]
  },
  {
   "cell_type": "code",
   "execution_count": 13,
   "metadata": {
    "execution": {
     "iopub.execute_input": "2022-10-25T13:13:17.102531Z",
     "iopub.status.busy": "2022-10-25T13:13:17.101950Z",
     "iopub.status.idle": "2022-10-25T13:13:18.584850Z",
     "shell.execute_reply": "2022-10-25T13:13:18.583299Z",
     "shell.execute_reply.started": "2022-10-25T13:13:17.102497Z"
    }
   },
   "outputs": [
    {
     "data": {
      "text/plain": [
       "<AxesSubplot:xlabel='Age', ylabel='Experience'>"
      ]
     },
     "execution_count": 13,
     "metadata": {},
     "output_type": "execute_result"
    },
    {
     "data": {
      "image/png": "[encoded data removed]",
      "text/plain": [
       "<Figure size 432x288 with 1 Axes>"
      ]
     },
     "metadata": {
      "needs_background": "light"
     },
     "output_type": "display_data"
    }
   ],
   "source": [
    "sns.barplot(x= my_data_age.index, y= my_data_age.Experience, data = my_data_age)\n"
   ]
  },
  {
   "cell_type": "code",
   "execution_count": 14,
   "metadata": {
    "execution": {
     "iopub.execute_input": "2022-10-25T13:13:18.586853Z",
     "iopub.status.busy": "2022-10-25T13:13:18.586543Z",
     "iopub.status.idle": "2022-10-25T13:13:18.596915Z",
     "shell.execute_reply": "2022-10-25T13:13:18.595053Z",
     "shell.execute_reply.started": "2022-10-25T13:13:18.586827Z"
    }
   },
   "outputs": [
    {
     "data": {
      "text/plain": [
       "array(['3 Seasons', '1 Season', '5 Seasons', '3rd season', 'Rookie',\n",
       "       '8 Seasons', '2 Seasons', '1st season', '9 Seasons', '10 Seasons',\n",
       "       '4 Seasons', '7 Seasons', '8th season', '4th season', '6 Seasons',\n",
       "       '11 Seasons', '0 Season', '2nd season', '6th season', '12 Seasons',\n",
       "       '11th season', '13 Seasons', '9th season', '7th season',\n",
       "       '5th season', '17 Seasons', '18th season', '18 Seasons',\n",
       "       '14th season', '14 Seasons', '10th season', nan, '15 Seasons',\n",
       "       '12th season', '23 Seasons', '16 Seasons', '19 Seasons',\n",
       "       '19th season', '20 Seasons', '13th season', '17th season',\n",
       "       '15th season', '21 Seasons', '16th season', '22nd season',\n",
       "       '22 Seasons', '25 Seasons'], dtype=object)"
      ]
     },
     "execution_count": 14,
     "metadata": {},
     "output_type": "execute_result"
    }
   ],
   "source": [
    "X = my_data_age.Experience.unique()\n",
    "X"
   ]
  },
  {
   "cell_type": "code",
   "execution_count": 15,
   "metadata": {
    "execution": {
     "iopub.execute_input": "2022-10-25T13:13:18.599679Z",
     "iopub.status.busy": "2022-10-25T13:13:18.599249Z",
     "iopub.status.idle": "2022-10-25T13:13:19.990750Z",
     "shell.execute_reply": "2022-10-25T13:13:19.989220Z",
     "shell.execute_reply.started": "2022-10-25T13:13:18.599649Z"
    }
   },
   "outputs": [
    {
     "data": {
      "application/javascript": [
       "parent.postMessage({\"jupyterEvent\": \"custom.exercise_interaction\", \"data\": {\"outcomeType\": 1, \"valueTowardsCompletion\": 0.25, \"interactionType\": 1, \"questionType\": 2, \"questionId\": \"4_CreatePlot\", \"learnToolsVersion\": \"0.3.4\", \"failureMessage\": \"\", \"exceptionClass\": \"\", \"trace\": \"\"}}, \"*\")"
      ],
      "text/plain": [
       "<IPython.core.display.Javascript object>"
      ]
     },
     "metadata": {},
     "output_type": "display_data"
    },
    {
     "data": {
      "text/markdown": [
       "<span style=\"color:#33cc33\">Correct:</span> \n",
       "\n"
      ],
      "text/plain": [
       "Correct: \n"
      ]
     },
     "metadata": {},
     "output_type": "display_data"
    },
    {
     "data": {
      "image/png": "[encoded data removed]",
      "text/plain": [
       "<Figure size 432x288 with 1 Axes>"
      ]
     },
     "metadata": {
      "needs_background": "light"
     },
     "output_type": "display_data"
    }
   ],
   "source": [
    "# Create a plot # Bar plot\n",
    "____ # Your code here\n",
    "sns.barplot(x= my_data_age.index, y= my_data_age.Experience, data = my_data_age)\n",
    "# Check that a figure appears below\n",
    "step_4.check()"
   ]
  },
  {
   "cell_type": "code",
   "execution_count": 16,
   "metadata": {
    "execution": {
     "iopub.execute_input": "2022-10-25T13:13:19.994297Z",
     "iopub.status.busy": "2022-10-25T13:13:19.993950Z",
     "iopub.status.idle": "2022-10-25T13:13:20.025725Z",
     "shell.execute_reply": "2022-10-25T13:13:20.023882Z",
     "shell.execute_reply.started": "2022-10-25T13:13:19.994269Z"
    }
   },
   "outputs": [
    {
     "data": {
      "text/html": [
       "<div>\n",
       "<style scoped>\n",
       "    .dataframe tbody tr th:only-of-type {\n",
       "        vertical-align: middle;\n",
       "    }\n",
       "\n",
       "    .dataframe tbody tr th {\n",
       "        vertical-align: top;\n",
       "    }\n",
       "\n",
       "    .dataframe thead th {\n",
       "        text-align: right;\n",
       "    }\n",
       "</style>\n",
       "<table border=\"1\" class=\"dataframe\">\n",
       "  <thead>\n",
       "    <tr style=\"text-align: right;\">\n",
       "      <th></th>\n",
       "      <th>Birth Place</th>\n",
       "      <th>Birthday</th>\n",
       "      <th>College</th>\n",
       "      <th>Current Status</th>\n",
       "      <th>Current Team</th>\n",
       "      <th>Experience</th>\n",
       "      <th>Height (inches)</th>\n",
       "      <th>High School</th>\n",
       "      <th>High School Location</th>\n",
       "      <th>Name</th>\n",
       "      <th>Number</th>\n",
       "      <th>Player Id</th>\n",
       "      <th>Position</th>\n",
       "      <th>Weight (lbs)</th>\n",
       "      <th>Years Played</th>\n",
       "    </tr>\n",
       "    <tr>\n",
       "      <th>Age</th>\n",
       "      <th></th>\n",
       "      <th></th>\n",
       "      <th></th>\n",
       "      <th></th>\n",
       "      <th></th>\n",
       "      <th></th>\n",
       "      <th></th>\n",
       "      <th></th>\n",
       "      <th></th>\n",
       "      <th></th>\n",
       "      <th></th>\n",
       "      <th></th>\n",
       "      <th></th>\n",
       "      <th></th>\n",
       "      <th></th>\n",
       "    </tr>\n",
       "  </thead>\n",
       "  <tbody>\n",
       "    <tr>\n",
       "      <th>NaN</th>\n",
       "      <td>Grand Rapids , MI</td>\n",
       "      <td>5/23/1921</td>\n",
       "      <td>Notre Dame</td>\n",
       "      <td>Retired</td>\n",
       "      <td>NaN</td>\n",
       "      <td>3 Seasons</td>\n",
       "      <td>71.0</td>\n",
       "      <td>NaN</td>\n",
       "      <td>NaN</td>\n",
       "      <td>Evans, Fred</td>\n",
       "      <td>NaN</td>\n",
       "      <td>fredevans/2513736</td>\n",
       "      <td>NaN</td>\n",
       "      <td>185.0</td>\n",
       "      <td>1946 - 1948</td>\n",
       "    </tr>\n",
       "    <tr>\n",
       "      <th>NaN</th>\n",
       "      <td>Dayton , OH</td>\n",
       "      <td>12/21/1930</td>\n",
       "      <td>Dayton</td>\n",
       "      <td>Retired</td>\n",
       "      <td>NaN</td>\n",
       "      <td>1 Season</td>\n",
       "      <td>70.0</td>\n",
       "      <td>NaN</td>\n",
       "      <td>NaN</td>\n",
       "      <td>Raiff, Jim</td>\n",
       "      <td>NaN</td>\n",
       "      <td>jimraiff/2523700</td>\n",
       "      <td>NaN</td>\n",
       "      <td>235.0</td>\n",
       "      <td>1954 - 1954</td>\n",
       "    </tr>\n",
       "    <tr>\n",
       "      <th>56.0</th>\n",
       "      <td>Temple , TX</td>\n",
       "      <td>9/11/1960</td>\n",
       "      <td>Louisiana Tech</td>\n",
       "      <td>Retired</td>\n",
       "      <td>NaN</td>\n",
       "      <td>1 Season</td>\n",
       "      <td>74.0</td>\n",
       "      <td>NaN</td>\n",
       "      <td>NaN</td>\n",
       "      <td>Fowler, Bobby</td>\n",
       "      <td>NaN</td>\n",
       "      <td>bobbyfowler/2514295</td>\n",
       "      <td>NaN</td>\n",
       "      <td>230.0</td>\n",
       "      <td>1985 - 1985</td>\n",
       "    </tr>\n",
       "    <tr>\n",
       "      <th>30.0</th>\n",
       "      <td>New Orleans , LA</td>\n",
       "      <td>9/30/1986</td>\n",
       "      <td>LSU</td>\n",
       "      <td>Retired</td>\n",
       "      <td>NaN</td>\n",
       "      <td>5 Seasons</td>\n",
       "      <td>73.0</td>\n",
       "      <td>NaN</td>\n",
       "      <td>NaN</td>\n",
       "      <td>Johnson, Quinn</td>\n",
       "      <td>NaN</td>\n",
       "      <td>quinnjohnson/79593</td>\n",
       "      <td>NaN</td>\n",
       "      <td>255.0</td>\n",
       "      <td>2009 - 2013</td>\n",
       "    </tr>\n",
       "    <tr>\n",
       "      <th>25.0</th>\n",
       "      <td>Detroit , MI</td>\n",
       "      <td>3/31/1992</td>\n",
       "      <td>Central Michigan</td>\n",
       "      <td>Active</td>\n",
       "      <td>Pittsburgh Steelers</td>\n",
       "      <td>3rd season</td>\n",
       "      <td>77.0</td>\n",
       "      <td>Clintondale HS</td>\n",
       "      <td>Clinton Twp.,Macomb Co., MI</td>\n",
       "      <td>Walton, L.T.</td>\n",
       "      <td>96.0</td>\n",
       "      <td>l.t.walton/2552444</td>\n",
       "      <td>DE</td>\n",
       "      <td>305.0</td>\n",
       "      <td>NaN</td>\n",
       "    </tr>\n",
       "    <tr>\n",
       "      <th>...</th>\n",
       "      <td>...</td>\n",
       "      <td>...</td>\n",
       "      <td>...</td>\n",
       "      <td>...</td>\n",
       "      <td>...</td>\n",
       "      <td>...</td>\n",
       "      <td>...</td>\n",
       "      <td>...</td>\n",
       "      <td>...</td>\n",
       "      <td>...</td>\n",
       "      <td>...</td>\n",
       "      <td>...</td>\n",
       "      <td>...</td>\n",
       "      <td>...</td>\n",
       "      <td>...</td>\n",
       "    </tr>\n",
       "    <tr>\n",
       "      <th>73.0</th>\n",
       "      <td>Detroit , MI</td>\n",
       "      <td>2/15/1944</td>\n",
       "      <td>Michigan State</td>\n",
       "      <td>Retired</td>\n",
       "      <td>NaN</td>\n",
       "      <td>1 Season</td>\n",
       "      <td>71.0</td>\n",
       "      <td>NaN</td>\n",
       "      <td>NaN</td>\n",
       "      <td>Goovert, Ron</td>\n",
       "      <td>NaN</td>\n",
       "      <td>rongoovert/2515082</td>\n",
       "      <td>NaN</td>\n",
       "      <td>225.0</td>\n",
       "      <td>1967 - 1967</td>\n",
       "    </tr>\n",
       "    <tr>\n",
       "      <th>32.0</th>\n",
       "      <td>Worland , WY</td>\n",
       "      <td>8/19/1984</td>\n",
       "      <td>Weber State</td>\n",
       "      <td>Retired</td>\n",
       "      <td>NaN</td>\n",
       "      <td>1 Season</td>\n",
       "      <td>75.0</td>\n",
       "      <td>NaN</td>\n",
       "      <td>NaN</td>\n",
       "      <td>Folsom, J.D.</td>\n",
       "      <td>NaN</td>\n",
       "      <td>j.d.folsom/238485</td>\n",
       "      <td>NaN</td>\n",
       "      <td>230.0</td>\n",
       "      <td>2009 - 2010</td>\n",
       "    </tr>\n",
       "    <tr>\n",
       "      <th>43.0</th>\n",
       "      <td>Washington , DC</td>\n",
       "      <td>5/4/1974</td>\n",
       "      <td>Akron</td>\n",
       "      <td>Retired</td>\n",
       "      <td>NaN</td>\n",
       "      <td>1 Season</td>\n",
       "      <td>72.0</td>\n",
       "      <td>NaN</td>\n",
       "      <td>NaN</td>\n",
       "      <td>Reader, Jamie</td>\n",
       "      <td>NaN</td>\n",
       "      <td>jamiereader/2502599</td>\n",
       "      <td>NaN</td>\n",
       "      <td>238.0</td>\n",
       "      <td>2001 - 2001</td>\n",
       "    </tr>\n",
       "    <tr>\n",
       "      <th>NaN</th>\n",
       "      <td>New Willard , TX</td>\n",
       "      <td>3/30/1921</td>\n",
       "      <td>Baylor</td>\n",
       "      <td>Retired</td>\n",
       "      <td>NaN</td>\n",
       "      <td>2 Seasons</td>\n",
       "      <td>73.0</td>\n",
       "      <td>NaN</td>\n",
       "      <td>NaN</td>\n",
       "      <td>Barnett, Solon</td>\n",
       "      <td>NaN</td>\n",
       "      <td>solonbarnett/2509044</td>\n",
       "      <td>NaN</td>\n",
       "      <td>235.0</td>\n",
       "      <td>1945 - 1946</td>\n",
       "    </tr>\n",
       "    <tr>\n",
       "      <th>54.0</th>\n",
       "      <td>Bryan , TX</td>\n",
       "      <td>10/21/1962</td>\n",
       "      <td>Baylor</td>\n",
       "      <td>Retired</td>\n",
       "      <td>NaN</td>\n",
       "      <td>1 Season</td>\n",
       "      <td>73.0</td>\n",
       "      <td>NaN</td>\n",
       "      <td>NaN</td>\n",
       "      <td>Johnson, Byron</td>\n",
       "      <td>NaN</td>\n",
       "      <td>byronjohnson/2517578</td>\n",
       "      <td>NaN</td>\n",
       "      <td>220.0</td>\n",
       "      <td>1987 - 1987</td>\n",
       "    </tr>\n",
       "  </tbody>\n",
       "</table>\n",
       "<p>17172 rows × 15 columns</p>\n",
       "</div>"
      ],
      "text/plain": [
       "            Birth Place    Birthday           College Current Status  \\\n",
       "Age                                                                    \n",
       "NaN   Grand Rapids , MI   5/23/1921        Notre Dame        Retired   \n",
       "NaN         Dayton , OH  12/21/1930            Dayton        Retired   \n",
       "56.0        Temple , TX   9/11/1960    Louisiana Tech        Retired   \n",
       "30.0   New Orleans , LA   9/30/1986               LSU        Retired   \n",
       "25.0       Detroit , MI   3/31/1992  Central Michigan         Active   \n",
       "...                 ...         ...               ...            ...   \n",
       "73.0       Detroit , MI   2/15/1944    Michigan State        Retired   \n",
       "32.0       Worland , WY   8/19/1984       Weber State        Retired   \n",
       "43.0    Washington , DC    5/4/1974             Akron        Retired   \n",
       "NaN    New Willard , TX   3/30/1921            Baylor        Retired   \n",
       "54.0         Bryan , TX  10/21/1962            Baylor        Retired   \n",
       "\n",
       "             Current Team  Experience  Height (inches)     High School  \\\n",
       "Age                                                                      \n",
       "NaN                   NaN   3 Seasons             71.0             NaN   \n",
       "NaN                   NaN    1 Season             70.0             NaN   \n",
       "56.0                  NaN    1 Season             74.0             NaN   \n",
       "30.0                  NaN   5 Seasons             73.0             NaN   \n",
       "25.0  Pittsburgh Steelers  3rd season             77.0  Clintondale HS   \n",
       "...                   ...         ...              ...             ...   \n",
       "73.0                  NaN    1 Season             71.0             NaN   \n",
       "32.0                  NaN    1 Season             75.0             NaN   \n",
       "43.0                  NaN    1 Season             72.0             NaN   \n",
       "NaN                   NaN   2 Seasons             73.0             NaN   \n",
       "54.0                  NaN    1 Season             73.0             NaN   \n",
       "\n",
       "             High School Location            Name  Number  \\\n",
       "Age                                                         \n",
       "NaN                           NaN     Evans, Fred     NaN   \n",
       "NaN                           NaN      Raiff, Jim     NaN   \n",
       "56.0                          NaN   Fowler, Bobby     NaN   \n",
       "30.0                          NaN  Johnson, Quinn     NaN   \n",
       "25.0  Clinton Twp.,Macomb Co., MI    Walton, L.T.    96.0   \n",
       "...                           ...             ...     ...   \n",
       "73.0                          NaN    Goovert, Ron     NaN   \n",
       "32.0                          NaN    Folsom, J.D.     NaN   \n",
       "43.0                          NaN   Reader, Jamie     NaN   \n",
       "NaN                           NaN  Barnett, Solon     NaN   \n",
       "54.0                          NaN  Johnson, Byron     NaN   \n",
       "\n",
       "                 Player Id Position  Weight (lbs) Years Played  \n",
       "Age                                                             \n",
       "NaN      fredevans/2513736      NaN         185.0  1946 - 1948  \n",
       "NaN       jimraiff/2523700      NaN         235.0  1954 - 1954  \n",
       "56.0   bobbyfowler/2514295      NaN         230.0  1985 - 1985  \n",
       "30.0    quinnjohnson/79593      NaN         255.0  2009 - 2013  \n",
       "25.0    l.t.walton/2552444       DE         305.0          NaN  \n",
       "...                    ...      ...           ...          ...  \n",
       "73.0    rongoovert/2515082      NaN         225.0  1967 - 1967  \n",
       "32.0     j.d.folsom/238485      NaN         230.0  2009 - 2010  \n",
       "43.0   jamiereader/2502599      NaN         238.0  2001 - 2001  \n",
       "NaN   solonbarnett/2509044      NaN         235.0  1945 - 1946  \n",
       "54.0  byronjohnson/2517578      NaN         220.0  1987 - 1987  \n",
       "\n",
       "[17172 rows x 15 columns]"
      ]
     },
     "execution_count": 16,
     "metadata": {},
     "output_type": "execute_result"
    }
   ],
   "source": [
    "my_data_age"
   ]
  },
  {
   "cell_type": "code",
   "execution_count": 17,
   "metadata": {
    "execution": {
     "iopub.execute_input": "2022-10-25T13:13:20.029551Z",
     "iopub.status.busy": "2022-10-25T13:13:20.029122Z",
     "iopub.status.idle": "2022-10-25T13:13:20.059790Z",
     "shell.execute_reply": "2022-10-25T13:13:20.058860Z",
     "shell.execute_reply.started": "2022-10-25T13:13:20.029524Z"
    }
   },
   "outputs": [
    {
     "data": {
      "text/html": [
       "<div>\n",
       "<style scoped>\n",
       "    .dataframe tbody tr th:only-of-type {\n",
       "        vertical-align: middle;\n",
       "    }\n",
       "\n",
       "    .dataframe tbody tr th {\n",
       "        vertical-align: top;\n",
       "    }\n",
       "\n",
       "    .dataframe thead th {\n",
       "        text-align: right;\n",
       "    }\n",
       "</style>\n",
       "<table border=\"1\" class=\"dataframe\">\n",
       "  <thead>\n",
       "    <tr style=\"text-align: right;\">\n",
       "      <th></th>\n",
       "      <th>Birth Place</th>\n",
       "      <th>Birthday</th>\n",
       "      <th>College</th>\n",
       "      <th>Current_Status</th>\n",
       "      <th>Current Team</th>\n",
       "      <th>Experience</th>\n",
       "      <th>Height</th>\n",
       "      <th>High School</th>\n",
       "      <th>High School Location</th>\n",
       "      <th>Name</th>\n",
       "      <th>Number</th>\n",
       "      <th>Player Id</th>\n",
       "      <th>Position</th>\n",
       "      <th>Weight</th>\n",
       "      <th>Years Played</th>\n",
       "    </tr>\n",
       "    <tr>\n",
       "      <th>Age</th>\n",
       "      <th></th>\n",
       "      <th></th>\n",
       "      <th></th>\n",
       "      <th></th>\n",
       "      <th></th>\n",
       "      <th></th>\n",
       "      <th></th>\n",
       "      <th></th>\n",
       "      <th></th>\n",
       "      <th></th>\n",
       "      <th></th>\n",
       "      <th></th>\n",
       "      <th></th>\n",
       "      <th></th>\n",
       "      <th></th>\n",
       "    </tr>\n",
       "  </thead>\n",
       "  <tbody>\n",
       "    <tr>\n",
       "      <th>NaN</th>\n",
       "      <td>Grand Rapids , MI</td>\n",
       "      <td>5/23/1921</td>\n",
       "      <td>Notre Dame</td>\n",
       "      <td>Retired</td>\n",
       "      <td>NaN</td>\n",
       "      <td>3 Seasons</td>\n",
       "      <td>71.0</td>\n",
       "      <td>NaN</td>\n",
       "      <td>NaN</td>\n",
       "      <td>Evans, Fred</td>\n",
       "      <td>NaN</td>\n",
       "      <td>fredevans/2513736</td>\n",
       "      <td>NaN</td>\n",
       "      <td>185.0</td>\n",
       "      <td>1946 - 1948</td>\n",
       "    </tr>\n",
       "    <tr>\n",
       "      <th>NaN</th>\n",
       "      <td>Dayton , OH</td>\n",
       "      <td>12/21/1930</td>\n",
       "      <td>Dayton</td>\n",
       "      <td>Retired</td>\n",
       "      <td>NaN</td>\n",
       "      <td>1 Season</td>\n",
       "      <td>70.0</td>\n",
       "      <td>NaN</td>\n",
       "      <td>NaN</td>\n",
       "      <td>Raiff, Jim</td>\n",
       "      <td>NaN</td>\n",
       "      <td>jimraiff/2523700</td>\n",
       "      <td>NaN</td>\n",
       "      <td>235.0</td>\n",
       "      <td>1954 - 1954</td>\n",
       "    </tr>\n",
       "    <tr>\n",
       "      <th>56.0</th>\n",
       "      <td>Temple , TX</td>\n",
       "      <td>9/11/1960</td>\n",
       "      <td>Louisiana Tech</td>\n",
       "      <td>Retired</td>\n",
       "      <td>NaN</td>\n",
       "      <td>1 Season</td>\n",
       "      <td>74.0</td>\n",
       "      <td>NaN</td>\n",
       "      <td>NaN</td>\n",
       "      <td>Fowler, Bobby</td>\n",
       "      <td>NaN</td>\n",
       "      <td>bobbyfowler/2514295</td>\n",
       "      <td>NaN</td>\n",
       "      <td>230.0</td>\n",
       "      <td>1985 - 1985</td>\n",
       "    </tr>\n",
       "    <tr>\n",
       "      <th>30.0</th>\n",
       "      <td>New Orleans , LA</td>\n",
       "      <td>9/30/1986</td>\n",
       "      <td>LSU</td>\n",
       "      <td>Retired</td>\n",
       "      <td>NaN</td>\n",
       "      <td>5 Seasons</td>\n",
       "      <td>73.0</td>\n",
       "      <td>NaN</td>\n",
       "      <td>NaN</td>\n",
       "      <td>Johnson, Quinn</td>\n",
       "      <td>NaN</td>\n",
       "      <td>quinnjohnson/79593</td>\n",
       "      <td>NaN</td>\n",
       "      <td>255.0</td>\n",
       "      <td>2009 - 2013</td>\n",
       "    </tr>\n",
       "    <tr>\n",
       "      <th>25.0</th>\n",
       "      <td>Detroit , MI</td>\n",
       "      <td>3/31/1992</td>\n",
       "      <td>Central Michigan</td>\n",
       "      <td>Active</td>\n",
       "      <td>Pittsburgh Steelers</td>\n",
       "      <td>3rd season</td>\n",
       "      <td>77.0</td>\n",
       "      <td>Clintondale HS</td>\n",
       "      <td>Clinton Twp.,Macomb Co., MI</td>\n",
       "      <td>Walton, L.T.</td>\n",
       "      <td>96.0</td>\n",
       "      <td>l.t.walton/2552444</td>\n",
       "      <td>DE</td>\n",
       "      <td>305.0</td>\n",
       "      <td>NaN</td>\n",
       "    </tr>\n",
       "  </tbody>\n",
       "</table>\n",
       "</div>"
      ],
      "text/plain": [
       "            Birth Place    Birthday           College Current_Status  \\\n",
       "Age                                                                    \n",
       "NaN   Grand Rapids , MI   5/23/1921        Notre Dame        Retired   \n",
       "NaN         Dayton , OH  12/21/1930            Dayton        Retired   \n",
       "56.0        Temple , TX   9/11/1960    Louisiana Tech        Retired   \n",
       "30.0   New Orleans , LA   9/30/1986               LSU        Retired   \n",
       "25.0       Detroit , MI   3/31/1992  Central Michigan         Active   \n",
       "\n",
       "             Current Team  Experience  Height     High School  \\\n",
       "Age                                                             \n",
       "NaN                   NaN   3 Seasons    71.0             NaN   \n",
       "NaN                   NaN    1 Season    70.0             NaN   \n",
       "56.0                  NaN    1 Season    74.0             NaN   \n",
       "30.0                  NaN   5 Seasons    73.0             NaN   \n",
       "25.0  Pittsburgh Steelers  3rd season    77.0  Clintondale HS   \n",
       "\n",
       "             High School Location            Name  Number  \\\n",
       "Age                                                         \n",
       "NaN                           NaN     Evans, Fred     NaN   \n",
       "NaN                           NaN      Raiff, Jim     NaN   \n",
       "56.0                          NaN   Fowler, Bobby     NaN   \n",
       "30.0                          NaN  Johnson, Quinn     NaN   \n",
       "25.0  Clinton Twp.,Macomb Co., MI    Walton, L.T.    96.0   \n",
       "\n",
       "                Player Id Position  Weight Years Played  \n",
       "Age                                                      \n",
       "NaN     fredevans/2513736      NaN   185.0  1946 - 1948  \n",
       "NaN      jimraiff/2523700      NaN   235.0  1954 - 1954  \n",
       "56.0  bobbyfowler/2514295      NaN   230.0  1985 - 1985  \n",
       "30.0   quinnjohnson/79593      NaN   255.0  2009 - 2013  \n",
       "25.0   l.t.walton/2552444       DE   305.0          NaN  "
      ]
     },
     "execution_count": 17,
     "metadata": {},
     "output_type": "execute_result"
    }
   ],
   "source": [
    "Y = my_data_age.rename(columns = {'Current Status': 'Current_Status', 'Height (inches)': 'Height', 'Weight (lbs)': 'Weight'})\n",
    "Y.head()"
   ]
  },
  {
   "cell_type": "code",
   "execution_count": 19,
   "metadata": {
    "execution": {
     "iopub.execute_input": "2022-10-25T13:17:29.197211Z",
     "iopub.status.busy": "2022-10-25T13:17:29.196753Z",
     "iopub.status.idle": "2022-10-25T13:17:29.220480Z",
     "shell.execute_reply": "2022-10-25T13:17:29.217694Z",
     "shell.execute_reply.started": "2022-10-25T13:17:29.197179Z"
    }
   },
   "outputs": [
    {
     "name": "stdout",
     "output_type": "stream",
     "text": [
      "<class 'pandas.core.frame.DataFrame'>\n",
      "Float64Index: 17172 entries, nan to 54.0\n",
      "Data columns (total 15 columns):\n",
      " #   Column                Non-Null Count  Dtype  \n",
      "---  ------                --------------  -----  \n",
      " 0   Birth Place           14794 non-null  object \n",
      " 1   Birthday              16835 non-null  object \n",
      " 2   College               17133 non-null  object \n",
      " 3   Current_Status        17172 non-null  object \n",
      " 4   Current Team          3096 non-null   object \n",
      " 5   Experience            17133 non-null  object \n",
      " 6   Height                17026 non-null  float64\n",
      " 7   High School           2514 non-null   object \n",
      " 8   High School Location  2510 non-null   object \n",
      " 9   Name                  17172 non-null  object \n",
      " 10  Number                1708 non-null   float64\n",
      " 11  Player Id             17172 non-null  object \n",
      " 12  Position              3096 non-null   object \n",
      " 13  Weight                17121 non-null  float64\n",
      " 14  Years Played          14076 non-null  object \n",
      "dtypes: float64(3), object(12)\n",
      "memory usage: 2.6+ MB\n"
     ]
    }
   ],
   "source": [
    "Y.info()"
   ]
  },
  {
   "cell_type": "code",
   "execution_count": 21,
   "metadata": {
    "execution": {
     "iopub.execute_input": "2022-10-25T13:18:43.885842Z",
     "iopub.status.busy": "2022-10-25T13:18:43.885440Z",
     "iopub.status.idle": "2022-10-25T13:18:44.262950Z",
     "shell.execute_reply": "2022-10-25T13:18:44.261426Z",
     "shell.execute_reply.started": "2022-10-25T13:18:43.885810Z"
    }
   },
   "outputs": [
    {
     "data": {
      "image/png": "[encoded data removed]",
      "text/plain": [
       "<Figure size 432x288 with 1 Axes>"
      ]
     },
     "metadata": {
      "needs_background": "light"
     },
     "output_type": "display_data"
    }
   ],
   "source": [
    "Z = Y.reset_index()\n",
    "Barplot = sns.barplot(x = Z.Current_Status, y = Z.Age, data = Z)"
   ]
  },
  {
   "cell_type": "code",
   "execution_count": 29,
   "metadata": {
    "execution": {
     "iopub.execute_input": "2022-10-25T13:28:26.291660Z",
     "iopub.status.busy": "2022-10-25T13:28:26.291226Z",
     "iopub.status.idle": "2022-10-25T13:28:26.700135Z",
     "shell.execute_reply": "2022-10-25T13:28:26.699270Z",
     "shell.execute_reply.started": "2022-10-25T13:28:26.291624Z"
    }
   },
   "outputs": [
    {
     "data": {
      "text/plain": [
       "Text(0, 0.5, 'Age')"
      ]
     },
     "execution_count": 29,
     "metadata": {},
     "output_type": "execute_result"
    },
    {
     "data": {
      "image/png": "[encoded data removed]",
      "text/plain": [
       "<Figure size 432x288 with 1 Axes>"
      ]
     },
     "metadata": {
      "needs_background": "light"
     },
     "output_type": "display_data"
    }
   ],
   "source": [
    "Barplot = sns.barplot(x = Z.Current_Status, y = Z.Age, data = Z)\n",
    "plt.xticks(rotation = 45)\n",
    "plt.xlabel('Current_Status')\n",
    "plt.ylabel('Age')"
   ]
  },
  {
   "cell_type": "markdown",
   "metadata": {},
   "source": [
    "## Keep going\n",
    "\n",
    "Learn how to use your skills after completing the micro-course to create data visualizations in a **[final tutorial](https://www.kaggle.com/alexisbcook/creating-your-own-notebooks)**."
   ]
  },
  {
   "cell_type": "markdown",
   "metadata": {},
   "source": [
    "---\n",
    "\n",
    "\n",
    "\n",
    "\n",
    "*Have questions or comments? Visit the [course discussion forum](https://www.kaggle.com/learn/data-visualization/discussion) to chat with other learners.*"
   ]
  }
 ],
 "metadata": {
  "kernelspec": {
   "display_name": "Python 3 (ipykernel)",
   "language": "python",
   "name": "python3"
  },
  "language_info": {
   "codemirror_mode": {
    "name": "ipython",
    "version": 3
   },
   "file_extension": ".py",
   "mimetype": "text/x-python",
   "name": "python",
   "nbconvert_exporter": "python",
   "pygments_lexer": "ipython3",
   "version": "3.9.12"
  }
 },
 "nbformat": 4,
 "nbformat_minor": 4
}
